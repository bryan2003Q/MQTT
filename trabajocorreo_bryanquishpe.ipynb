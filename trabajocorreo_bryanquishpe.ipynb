{
  "nbformat": 4,
  "nbformat_minor": 0,
  "metadata": {
    "colab": {
      "provenance": [],
      "authorship_tag": "ABX9TyPhR29+Q7RPTSEKdMd2qf45",
      "include_colab_link": true
    },
    "kernelspec": {
      "name": "python3",
      "display_name": "Python 3"
    },
    "language_info": {
      "name": "python"
    }
  },
  "cells": [
    {
      "cell_type": "markdown",
      "metadata": {
        "id": "view-in-github",
        "colab_type": "text"
      },
      "source": [
        "<a href=\"https://colab.research.google.com/github/bryan2003Q/MQTT/blob/main/trabajocorreo_bryanquishpe.ipynb\" target=\"_parent\"><img src=\"https://colab.research.google.com/assets/colab-badge.svg\" alt=\"Open In Colab\"/></a>"
      ]
    },
    {
      "cell_type": "code",
      "source": [
        "pip install paho-mqtt"
      ],
      "metadata": {
        "colab": {
          "base_uri": "https://localhost:8080/"
        },
        "id": "51QiohGRCavo",
        "outputId": "ce8a31df-037e-498b-d787-79397fd03f09"
      },
      "execution_count": null,
      "outputs": [
        {
          "output_type": "stream",
          "name": "stdout",
          "text": [
            "Collecting paho-mqtt\n",
            "  Downloading paho-mqtt-1.6.1.tar.gz (99 kB)\n",
            "\u001b[?25l     \u001b[90m━━━━━━━━━━━━━━━━━━━━━━━━━━━━━━━━━━━━━━━━\u001b[0m \u001b[32m0.0/99.4 kB\u001b[0m \u001b[31m?\u001b[0m eta \u001b[36m-:--:--\u001b[0m\r\u001b[2K     \u001b[90m━━━━━━━━━━━━━━━━━━━━━━━━━━━━━━━━━━━━━━━━\u001b[0m \u001b[32m99.4/99.4 kB\u001b[0m \u001b[31m3.4 MB/s\u001b[0m eta \u001b[36m0:00:00\u001b[0m\n",
            "\u001b[?25h  Preparing metadata (setup.py) ... \u001b[?25l\u001b[?25hdone\n",
            "Building wheels for collected packages: paho-mqtt\n",
            "  Building wheel for paho-mqtt (setup.py) ... \u001b[?25l\u001b[?25hdone\n",
            "  Created wheel for paho-mqtt: filename=paho_mqtt-1.6.1-py3-none-any.whl size=62118 sha256=af64034ce3af029caa1cd5184abace450b396320e6d9e411f6676c4e0b00a225\n",
            "  Stored in directory: /root/.cache/pip/wheels/8b/bb/0c/79444d1dee20324d442856979b5b519b48828b0bd3d05df84a\n",
            "Successfully built paho-mqtt\n",
            "Installing collected packages: paho-mqtt\n",
            "Successfully installed paho-mqtt-1.6.1\n"
          ]
        }
      ]
    },
    {
      "cell_type": "code",
      "source": [
        " pip install yagmail[all]"
      ],
      "metadata": {
        "colab": {
          "base_uri": "https://localhost:8080/"
        },
        "id": "-AAF6EtxDt0f",
        "outputId": "bebf7521-412d-4d6e-b20f-2a37bddb4de6"
      },
      "execution_count": null,
      "outputs": [
        {
          "output_type": "stream",
          "name": "stdout",
          "text": [
            "Collecting yagmail[all]\n",
            "  Downloading yagmail-0.15.293-py2.py3-none-any.whl (17 kB)\n",
            "Collecting premailer (from yagmail[all])\n",
            "  Downloading premailer-3.10.0-py2.py3-none-any.whl (19 kB)\n",
            "Collecting keyring (from yagmail[all])\n",
            "  Downloading keyring-24.2.0-py3-none-any.whl (37 kB)\n",
            "Collecting dkimpy (from yagmail[all])\n",
            "  Downloading dkimpy-1.1.4.tar.gz (66 kB)\n",
            "\u001b[2K     \u001b[90m━━━━━━━━━━━━━━━━━━━━━━━━━━━━━━━━━━━━━━━━\u001b[0m \u001b[32m67.0/67.0 kB\u001b[0m \u001b[31m7.0 MB/s\u001b[0m eta \u001b[36m0:00:00\u001b[0m\n",
            "\u001b[?25h  Preparing metadata (setup.py) ... \u001b[?25l\u001b[?25hdone\n",
            "Collecting dnspython>=1.16.0 (from dkimpy->yagmail[all])\n",
            "  Downloading dnspython-2.3.0-py3-none-any.whl (283 kB)\n",
            "\u001b[2K     \u001b[90m━━━━━━━━━━━━━━━━━━━━━━━━━━━━━━━━━━━━━━\u001b[0m \u001b[32m283.7/283.7 kB\u001b[0m \u001b[31m14.9 MB/s\u001b[0m eta \u001b[36m0:00:00\u001b[0m\n",
            "\u001b[?25hCollecting jaraco.classes (from keyring->yagmail[all])\n",
            "  Downloading jaraco.classes-3.3.0-py3-none-any.whl (5.9 kB)\n",
            "Collecting importlib-metadata>=4.11.4 (from keyring->yagmail[all])\n",
            "  Downloading importlib_metadata-6.8.0-py3-none-any.whl (22 kB)\n",
            "Collecting SecretStorage>=3.2 (from keyring->yagmail[all])\n",
            "  Downloading SecretStorage-3.3.3-py3-none-any.whl (15 kB)\n",
            "Collecting jeepney>=0.4.2 (from keyring->yagmail[all])\n",
            "  Downloading jeepney-0.8.0-py3-none-any.whl (48 kB)\n",
            "\u001b[2K     \u001b[90m━━━━━━━━━━━━━━━━━━━━━━━━━━━━━━━━━━━━━━━━\u001b[0m \u001b[32m48.4/48.4 kB\u001b[0m \u001b[31m5.3 MB/s\u001b[0m eta \u001b[36m0:00:00\u001b[0m\n",
            "\u001b[?25hRequirement already satisfied: lxml in /usr/local/lib/python3.10/dist-packages (from premailer->yagmail[all]) (4.9.3)\n",
            "Collecting cssselect (from premailer->yagmail[all])\n",
            "  Downloading cssselect-1.2.0-py2.py3-none-any.whl (18 kB)\n",
            "Collecting cssutils (from premailer->yagmail[all])\n",
            "  Downloading cssutils-2.7.1-py3-none-any.whl (399 kB)\n",
            "\u001b[2K     \u001b[90m━━━━━━━━━━━━━━━━━━━━━━━━━━━━━━━━━━━━━━\u001b[0m \u001b[32m399.7/399.7 kB\u001b[0m \u001b[31m36.6 MB/s\u001b[0m eta \u001b[36m0:00:00\u001b[0m\n",
            "\u001b[?25hRequirement already satisfied: requests in /usr/local/lib/python3.10/dist-packages (from premailer->yagmail[all]) (2.27.1)\n",
            "Requirement already satisfied: cachetools in /usr/local/lib/python3.10/dist-packages (from premailer->yagmail[all]) (5.3.1)\n",
            "Requirement already satisfied: zipp>=0.5 in /usr/local/lib/python3.10/dist-packages (from importlib-metadata>=4.11.4->keyring->yagmail[all]) (3.15.0)\n",
            "Collecting cryptography>=2.0 (from SecretStorage>=3.2->keyring->yagmail[all])\n",
            "  Downloading cryptography-41.0.2-cp37-abi3-manylinux_2_28_x86_64.whl (4.3 MB)\n",
            "\u001b[2K     \u001b[90m━━━━━━━━━━━━━━━━━━━━━━━━━━━━━━━━━━━━━━━━\u001b[0m \u001b[32m4.3/4.3 MB\u001b[0m \u001b[31m72.6 MB/s\u001b[0m eta \u001b[36m0:00:00\u001b[0m\n",
            "\u001b[?25hRequirement already satisfied: more-itertools in /usr/local/lib/python3.10/dist-packages (from jaraco.classes->keyring->yagmail[all]) (9.1.0)\n",
            "Requirement already satisfied: urllib3<1.27,>=1.21.1 in /usr/local/lib/python3.10/dist-packages (from requests->premailer->yagmail[all]) (1.26.16)\n",
            "Requirement already satisfied: certifi>=2017.4.17 in /usr/local/lib/python3.10/dist-packages (from requests->premailer->yagmail[all]) (2023.5.7)\n",
            "Requirement already satisfied: charset-normalizer~=2.0.0 in /usr/local/lib/python3.10/dist-packages (from requests->premailer->yagmail[all]) (2.0.12)\n",
            "Requirement already satisfied: idna<4,>=2.5 in /usr/local/lib/python3.10/dist-packages (from requests->premailer->yagmail[all]) (3.4)\n",
            "Requirement already satisfied: cffi>=1.12 in /usr/local/lib/python3.10/dist-packages (from cryptography>=2.0->SecretStorage>=3.2->keyring->yagmail[all]) (1.15.1)\n",
            "Requirement already satisfied: pycparser in /usr/local/lib/python3.10/dist-packages (from cffi>=1.12->cryptography>=2.0->SecretStorage>=3.2->keyring->yagmail[all]) (2.21)\n",
            "Building wheels for collected packages: dkimpy\n",
            "  Building wheel for dkimpy (setup.py) ... \u001b[?25l\u001b[?25hdone\n",
            "  Created wheel for dkimpy: filename=dkimpy-1.1.4-py3-none-any.whl size=49977 sha256=7c0edaaf68f386def5938e99a8eecc430dd069d9f54e4fc615b359fa8ecaa9c8\n",
            "  Stored in directory: /root/.cache/pip/wheels/77/b3/64/c4c9fec40aaad1c4207da0c271727640bd36940e4d04835d3e\n",
            "Successfully built dkimpy\n",
            "Installing collected packages: jeepney, jaraco.classes, importlib-metadata, dnspython, cssutils, cssselect, premailer, dkimpy, cryptography, yagmail, SecretStorage, keyring\n",
            "Successfully installed SecretStorage-3.3.3 cryptography-41.0.2 cssselect-1.2.0 cssutils-2.7.1 dkimpy-1.1.4 dnspython-2.3.0 importlib-metadata-6.8.0 jaraco.classes-3.3.0 jeepney-0.8.0 keyring-24.2.0 premailer-3.10.0 yagmail-0.15.293\n"
          ]
        }
      ]
    },
    {
      "cell_type": "code",
      "source": [
        "from paho.mqtt import client as mqtt_client\n",
        "import random\n",
        "import json\n",
        "import time\n",
        "import yagmail\n",
        "\n",
        "# Hive\n",
        "BROKER = 'broker.hivemq.com'\n",
        "PORT = 1883\n",
        "TOPIC_DATA = \"mensaje\"\n",
        "TOPIC_ALERT = \"mensaje\"\n",
        "CLIENT_ID = \"python-mqtt-tcp-pub-sub-{id}\".format(id=random.randint(0, 1000))\n",
        "FLAG_CONNECTED = 0\n",
        "\n",
        "def on_connect(client, userdata, flags, rc):\n",
        "    global FLAG_CONNECTED\n",
        "    if rc == 0:\n",
        "        FLAG_CONNECTED = 1\n",
        "        print(\"Connected to MQTT Broker!\")\n",
        "        client.subscribe(TOPIC_DATA)\n",
        "        client.subscribe(TOPIC_ALERT)\n",
        "    else:\n",
        "        print(\"Failed to connect, return code {rc}\".format(rc=rc))\n",
        "\n",
        "\n",
        "def on_message(client, userdata, msg):\n",
        "    try:\n",
        "        print(\"Received `{payload}` from `{topic}` topic\".format(payload=msg.payload.decode(), topic=msg.topic))\n",
        "        publish(client, TOPIC_ALERT, )\n",
        "\n",
        "    except Exception as e:\n",
        "        print(e)\n",
        "\n",
        "def connect_mqtt():\n",
        "    client = mqtt_client.Client(CLIENT_ID)\n",
        "    client.on_connect = on_connect\n",
        "    client.on_message = on_message\n",
        "    client.connect(BROKER, PORT)\n",
        "    return client\n",
        "\n",
        "def publish(client, topic, message):\n",
        "    msg = json.dumps(message)\n",
        "    result = client.publish(topic, msg)\n",
        "\n",
        "client = connect_mqtt()\n",
        "\n",
        "#correo electronico\n",
        "email = 'quishpebryan10mob@gmail.com'\n",
        "contraseña = 'oihqcvwoxpaevsbz'\n",
        "\n",
        "\n",
        "\n",
        "\n",
        "\n",
        "\n",
        "def run():\n",
        "    counter = 1\n",
        "\n",
        "    while True:\n",
        "        client.loop_start()\n",
        "        time.sleep(1)\n",
        "\n",
        "        if FLAG_CONNECTED:\n",
        "            if counter % 10 == 0:\n",
        "                publish(client, TOPIC_ALERT, counter)\n",
        "                publish(client, TOPIC_ALERT, \"Multiplo de 10: {counter}\".format(counter=counter))\n",
        "                yag = yagmail.SMTP(user=email, password=contraseña)\n",
        "                destinatarios = ['quishpebryan1234@gmail.com']\n",
        "                asunto = 'multiplo de 10'\n",
        "                mensaje = 'El número {counter} es múltiplo de 10'.format(counter=counter)\n",
        "                yag.send(destinatarios, asunto, mensaje)\n",
        "            else:\n",
        "                publish(client, TOPIC_ALERT, counter)\n",
        "            counter += 1\n",
        "        else:\n",
        "            client.loop_stop()\n",
        "\n",
        "if __name__ == '__main__':\n",
        "    run()"
      ],
      "metadata": {
        "id": "wfwSEkhMDeNm"
      },
      "execution_count": null,
      "outputs": []
    }
  ]
}